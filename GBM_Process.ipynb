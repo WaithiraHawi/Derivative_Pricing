{
  "nbformat": 4,
  "nbformat_minor": 0,
  "metadata": {
    "colab": {
      "provenance": [],
      "authorship_tag": "ABX9TyOeJ0uPg2iuB7VKiKUjJr3F",
      "include_colab_link": true
    },
    "kernelspec": {
      "name": "python3",
      "display_name": "Python 3"
    },
    "language_info": {
      "name": "python"
    }
  },
  "cells": [
    {
      "cell_type": "markdown",
      "metadata": {
        "id": "view-in-github",
        "colab_type": "text"
      },
      "source": [
        "<a href=\"https://colab.research.google.com/github/WaithiraHawi/Derivative_Pricing/blob/main/GBM_Process.ipynb\" target=\"_parent\"><img src=\"https://colab.research.google.com/assets/colab-badge.svg\" alt=\"Open In Colab\"/></a>"
      ]
    },
    {
      "cell_type": "markdown",
      "source": [
        "**Monte-Carlo methods with regular GBM process and daily simulations on an American Call option.**"
      ],
      "metadata": {
        "id": "sbPvm712r7oT"
      }
    },
    {
      "cell_type": "code",
      "source": [
        "import numpy as np\n",
        "from scipy.stats import norm\n",
        "\n",
        "# Parameters\n",
        "S0 = 100      # The spot price\n",
        "K = 100       # The strike price (ATM)\n",
        "r = 0.05      # The risk-free rate (5%)\n",
        "sigma = 0.2   # Volatility (20%)\n",
        "T = 3/12      # Time to expiration(3 months)\n",
        "\n",
        "# The Black-Scholes formula components\n",
        "d1 = (np.log(S0 / K) + (r + 0.5 * sigma**2) * T) / (sigma * np.sqrt(T))\n",
        "d2 = d1 - sigma * np.sqrt(T)\n",
        "\n",
        "# Black-Scholes formula for European Call and Put\n",
        "call_price = S0 * norm.cdf(d1) - K * np.exp(-r * T) * norm.cdf(d2)\n",
        "put_price = K * np.exp(-r * T) * norm.cdf(-d2) - S0 * norm.cdf(-d1)\n",
        "\n",
        "call_price, put_price"
      ],
      "metadata": {
        "colab": {
          "base_uri": "https://localhost:8080/"
        },
        "id": "6OJatk-YqwRk",
        "outputId": "504e25d9-77c8-4f03-e874-dabcbfc53df0"
      },
      "execution_count": null,
      "outputs": [
        {
          "output_type": "execute_result",
          "data": {
            "text/plain": [
              "(4.614997129602855, 3.372777178991008)"
            ]
          },
          "metadata": {},
          "execution_count": 1
        }
      ]
    },
    {
      "cell_type": "code",
      "source": [
        "# Computing Delta for Call and Put options\n",
        "delta_call = norm.cdf(d1)\n",
        "delta_put = norm.cdf(d1) - 1\n",
        "\n",
        "# Computing Vega (sensitivity to volatility)\n",
        "vega = S0 * np.sqrt(T) * norm.pdf(d1)\n",
        "\n",
        "delta_call, delta_put, vega\n"
      ],
      "metadata": {
        "colab": {
          "base_uri": "https://localhost:8080/"
        },
        "id": "ZSkCNcE7rd4b",
        "outputId": "72dbf667-8df0-40ef-bf32-d210cd35ee99"
      },
      "execution_count": null,
      "outputs": [
        {
          "output_type": "execute_result",
          "data": {
            "text/plain": [
              "(0.5694601832076737, -0.43053981679232634, 19.644000472368965)"
            ]
          },
          "metadata": {},
          "execution_count": 2
        }
      ]
    },
    {
      "cell_type": "code",
      "source": [
        "# importing libraries\n",
        "import numpy as np\n",
        "from scipy.stats import norm\n",
        "\n",
        "# parameters\n",
        "S0 = 100      # Spot price\n",
        "K = 100       # Strike price (ATM)\n",
        "r = 0.05      # Risk-free rate (5%)\n",
        "sigma = 0.2   # Volatility (20%)\n",
        "T = 3/12      # Time to maturity (3 months)\n",
        "\n",
        "# Black-Scholes formula components\n",
        "d1 = (np.log(S0 / K) + (r + 0.5 * sigma**2) * T) / (sigma * np.sqrt(T))\n",
        "d2 = d1 - sigma * np.sqrt(T)\n",
        "\n",
        "# Black-Scholes formula for European Call and Put\n",
        "call_price = S0 * norm.cdf(d1) - K * np.exp(-r * T) * norm.cdf(d2)\n",
        "put_price = K * np.exp(-r * T) * norm.cdf(-d2) - S0 * norm.cdf(-d1)\n",
        "\n",
        "# Computing Delta for Call and Put options\n",
        "delta_call = norm.cdf(d1)\n",
        "delta_put = norm.cdf(d1) - 1\n",
        "\n",
        "# Compute Vega (sensitivity to volatility)\n",
        "vega = S0 * np.sqrt(T) * norm.pdf(d1)\n",
        "\n",
        "call_price, put_price, delta_call, delta_put, vega"
      ],
      "metadata": {
        "colab": {
          "base_uri": "https://localhost:8080/"
        },
        "id": "dzvHh046suTj",
        "outputId": "6df7f5ab-3bc1-4786-880a-6d02d41a63f5"
      },
      "execution_count": 1,
      "outputs": [
        {
          "output_type": "execute_result",
          "data": {
            "text/plain": [
              "(4.614997129602855,\n",
              " 3.372777178991008,\n",
              " 0.5694601832076737,\n",
              " -0.43053981679232634,\n",
              " 19.644000472368965)"
            ]
          },
          "metadata": {},
          "execution_count": 1
        }
      ]
    },
    {
      "cell_type": "code",
      "source": [
        "# Computing option prices with increased volatility (sigma = 25%)\n",
        "sigma_new = 0.25  # 25% volatility\n",
        "\n",
        "# calculating d1 and d2 with new sigma\n",
        "d1_new = (np.log(S0 / K) + (r + 0.5 * sigma_new**2) * T) / (sigma_new * np.sqrt(T))\n",
        "d2_new = d1_new - sigma_new * np.sqrt(T)\n",
        "\n",
        "# Computing new option prices\n",
        "call_price_new = S0 * norm.cdf(d1_new) - K * np.exp(-r * T) * norm.cdf(d2_new)\n",
        "put_price_new = K * np.exp(-r * T) * norm.cdf(-d2_new) - S0 * norm.cdf(-d1_new)\n",
        "\n",
        "# Computing price changes\n",
        "call_price_change = call_price_new - call_price\n",
        "put_price_change = put_price_new - put_price\n",
        "\n",
        "call_price_new, put_price_new, call_price_change, put_price_change"
      ],
      "metadata": {
        "colab": {
          "base_uri": "https://localhost:8080/"
        },
        "id": "y4us9-kU1j6G",
        "outputId": "861916df-1baa-4f42-cbfa-73e52af606ea"
      },
      "execution_count": null,
      "outputs": [
        {
          "output_type": "execute_result",
          "data": {
            "text/plain": [
              "(5.598400241450669, 4.356180290838807, 0.9834031118478137, 0.9834031118477995)"
            ]
          },
          "metadata": {},
          "execution_count": 4
        }
      ]
    },
    {
      "cell_type": "code",
      "source": [
        "# import libraries\n",
        "import numpy as np\n",
        "from scipy.stats import norm\n",
        "\n",
        "# Given parameters\n",
        "S0 = 100      # Spot price\n",
        "K = 100       # Strike price (ATM)\n",
        "r = 0.05      # Risk-free rate (5%)\n",
        "sigma = 0.2   # Initial volatility (20%)\n",
        "T = 3/12      # Time to maturity (3 months)\n",
        "\n",
        "# Black-Scholes formula components with initial sigma\n",
        "d1 = (np.log(S0 / K) + (r + 0.5 * sigma**2) * T) / (sigma * np.sqrt(T))\n",
        "d2 = d1 - sigma * np.sqrt(T)\n",
        "\n",
        "# Computing original option prices\n",
        "call_price = S0 * norm.cdf(d1) - K * np.exp(-r * T) * norm.cdf(d2)\n",
        "put_price = K * np.exp(-r * T) * norm.cdf(-d2) - S0 * norm.cdf(-d1)\n",
        "\n",
        "# New volatility (increase to 25%)\n",
        "sigma_new = 0.25  # 25% volatility\n",
        "\n",
        "# calculating d1 and d2 with new sigma\n",
        "d1_new = (np.log(S0 / K) + (r + 0.5 * sigma_new**2) * T) / (sigma_new * np.sqrt(T))\n",
        "d2_new = d1_new - sigma_new * np.sqrt(T)\n",
        "\n",
        "# Computing new option prices\n",
        "call_price_new = S0 * norm.cdf(d1_new) - K * np.exp(-r * T) * norm.cdf(d2_new)\n",
        "put_price_new = K * np.exp(-r * T) * norm.cdf(-d2_new) - S0 * norm.cdf(-d1_new)\n",
        "\n",
        "# Computing price changes due to volatility increase\n",
        "call_price_change = call_price_new - call_price\n",
        "put_price_change = put_price_new - put_price\n",
        "\n",
        "call_price_new, put_price_new, call_price_change, put_price_change"
      ],
      "metadata": {
        "colab": {
          "base_uri": "https://localhost:8080/"
        },
        "id": "Qalsx-iWtsai",
        "outputId": "49a2dcd3-5247-4006-bd24-e79d62c249fa"
      },
      "execution_count": 2,
      "outputs": [
        {
          "output_type": "execute_result",
          "data": {
            "text/plain": [
              "(5.598400241450669, 4.356180290838807, 0.9834031118478137, 0.9834031118477995)"
            ]
          },
          "metadata": {},
          "execution_count": 2
        }
      ]
    },
    {
      "cell_type": "code",
      "source": [
        "import numpy as np\n",
        "\n",
        "# Parameters\n",
        "S0 = 100  # Initial stock price\n",
        "r = 0.05  # Risk-free rate\n",
        "sigma = 0.20  # Volatility\n",
        "T = 3 / 12  # 3 months in years\n",
        "N = 90  # Daily steps\n",
        "M = 100000  # Number of Monte Carlo simulations\n",
        "K = S0  # ATM strike price\n",
        "\n",
        "def simulate_gbm(S0, r, sigma, T, N, M):\n",
        "    \"\"\" Simulating stock prices using Geometric Brownian Motion (GBM). \"\"\"\n",
        "    dt = T / N\n",
        "    Z = np.random.randn(M, N)  # Random standard normal numbers\n",
        "    S = np.zeros((M, N + 1))\n",
        "    S[:, 0] = S0\n",
        "\n",
        "    for t in range(1, N + 1):\n",
        "        S[:, t] = S[:, t-1] * np.exp((r - 0.5 * sigma**2) * dt + sigma * np.sqrt(dt) * Z[:, t-1])\n",
        "\n",
        "    return S\n",
        "\n",
        "def price_american_call(S0, K, r, sigma, T, N, M):\n",
        "    \"\"\" Pricing an American call option using Monte Carlo with Least Squares Method. \"\"\"\n",
        "    S = simulate_gbm(S0, r, sigma, T, N, M)\n",
        "    dt = T / N\n",
        "    discount_factor = np.exp(-r * dt)\n",
        "\n",
        "    payoff = np.maximum(S[:, -1] - K, 0)\n",
        "    option_value = payoff.copy()\n",
        "\n",
        "    for t in range(N-1, 0, -1):\n",
        "        in_money = S[:, t] > K\n",
        "        if np.any(in_money):\n",
        "            regression = np.polyfit(S[in_money, t], option_value[in_money] * discount_factor, 2)\n",
        "            continuation_value = np.polyval(regression, S[in_money, t])\n",
        "            exercise_value = np.maximum(S[in_money, t] - K, 0)\n",
        "            option_value[in_money] = np.where(exercise_value > continuation_value, exercise_value, option_value[in_money] * discount_factor)\n",
        "\n",
        "    return np.mean(option_value) * np.exp(-r * dt)\n",
        "\n",
        "def compute_delta(S0, K, r, sigma, T, N, M, eps=1):\n",
        "    \"\"\" Computing Delta using finite differences. \"\"\"\n",
        "    price_up = price_american_call(S0 + eps, K, r, sigma, T, N, M)\n",
        "    price_down = price_american_call(S0 - eps, K, r, sigma, T, N, M)\n",
        "    return (price_up - price_down) / (2 * eps)\n",
        "\n",
        "def compute_vega(S0, K, r, sigma, T, N, M, d_sigma=0.05):\n",
        "    \"\"\" Computing Vega using finite differences. \"\"\"\n",
        "    price_up = price_american_call(S0, K, r, sigma + d_sigma, T, N, M)\n",
        "    price_down = price_american_call(S0, K, r, sigma - d_sigma, T, N, M)\n",
        "    return (price_up - price_down) / (2 * d_sigma)\n",
        "\n",
        "# Computing Prices, Delta, and Vega\n",
        "call_price = price_american_call(S0, K, r, sigma, T, N, M)\n",
        "delta_call = compute_delta(S0, K, r, sigma, T, N, M)\n",
        "vega_call = compute_vega(S0, K, r, sigma, T, N, M)\n",
        "\n",
        "call_price, delta_call, vega_call"
      ],
      "metadata": {
        "colab": {
          "base_uri": "https://localhost:8080/"
        },
        "id": "tEpT8k3X59Ys",
        "outputId": "711d6ff3-4180-41c1-99ef-cf20917e8328"
      },
      "execution_count": null,
      "outputs": [
        {
          "output_type": "execute_result",
          "data": {
            "text/plain": [
              "(4.5540717001875946, 0.5600962726411873, 19.12972456985275)"
            ]
          },
          "metadata": {},
          "execution_count": 6
        }
      ]
    },
    {
      "cell_type": "code",
      "source": [
        "import numpy as np\n",
        "from scipy.stats import norm\n",
        "\n",
        "# Parameters\n",
        "S0 = 100  # Initial stock price\n",
        "r = 0.05  # Risk-free rate\n",
        "sigma = 0.20  # Volatility\n",
        "T = 3 / 12  # 3 months in years\n",
        "K_call = 110  # 110% moneyness call\n",
        "K_put = 95  # 95% moneyness put\n",
        "\n",
        "def black_scholes(S0, K, r, sigma, T, option_type=\"call\"):\n",
        "    d1 = (np.log(S0 / K) + (r + 0.5 * sigma ** 2) * T) / (sigma * np.sqrt(T))\n",
        "    d2 = d1 - sigma * np.sqrt(T)\n",
        "\n",
        "    if option_type == \"call\":\n",
        "        price = S0 * norm.cdf(d1) - K * np.exp(-r * T) * norm.cdf(d2)\n",
        "        delta = norm.cdf(d1)\n",
        "    else:\n",
        "        price = K * np.exp(-r * T) * norm.cdf(-d2) - S0 * norm.cdf(-d1)\n",
        "        delta = norm.cdf(d1) - 1\n",
        "\n",
        "    return price, delta\n",
        "\n",
        "# Computing call and put prices and deltas\n",
        "call_price, delta_call = black_scholes(S0, K_call, r, sigma, T, \"call\")\n",
        "put_price, delta_put = black_scholes(S0, K_put, r, sigma, T, \"put\")\n",
        "\n",
        "# Portfolio 1: Buy Call + Buy Put\n",
        "delta_portfolio_1 = delta_call + delta_put  # 2N(d1) - 1\n",
        "\n",
        "# Portfolio 2: Buy Call + Sell Put\n",
        "delta_portfolio_2 = delta_call - delta_put  # Always = 1\n",
        "\n",
        "# results\n",
        "print(f\"European Call Price (110% moneyness): {call_price:.4f}\")\n",
        "print(f\"European Put Price (95% moneyness): {put_price:.4f}\")\n",
        "print(f\"Delta of Call: {delta_call:.4f}\")\n",
        "print(f\"Delta of Put: {delta_put:.4f}\")\n",
        "print(f\"Delta of Portfolio 1 (Call + Put): {delta_portfolio_1:.4f}\")\n",
        "print(f\"Delta of Portfolio 2 (Call - Put): {delta_portfolio_2:.4f}\")"
      ],
      "metadata": {
        "colab": {
          "base_uri": "https://localhost:8080/"
        },
        "id": "sDuZOPbJt7-K",
        "outputId": "29cd9267-040d-4042-d82b-cad2af6793c7"
      },
      "execution_count": 3,
      "outputs": [
        {
          "output_type": "stream",
          "name": "stdout",
          "text": [
            "European Call Price (110% moneyness): 1.1911\n",
            "European Put Price (95% moneyness): 1.5343\n",
            "Delta of Call: 0.2183\n",
            "Delta of Put: -0.2457\n",
            "Delta of Portfolio 1 (Call + Put): -0.0275\n",
            "Delta of Portfolio 2 (Call - Put): 0.4640\n"
          ]
        }
      ]
    },
    {
      "cell_type": "markdown",
      "source": [
        "**Monte-Carlo methods with regular GBM process and daily simulations on an American Put option.**"
      ],
      "metadata": {
        "id": "QjOSWfULuFcT"
      }
    },
    {
      "cell_type": "code",
      "source": [
        "import numpy as np\n",
        "\n",
        "# Parameters\n",
        "S0 = 100  # Initial stock price\n",
        "K = 100  # Strike price (ATM)\n",
        "r = 0.05  # Risk-free interest rate\n",
        "sigma = 0.2  # Volatility\n",
        "T = 0.25  # Time to expiration (3 months)\n",
        "N_simulations = 10000  # Number of simulations\n",
        "steps = 252  # Number of daily steps in a year\n",
        "\n",
        "# Time step\n",
        "dt = T / steps\n",
        "\n",
        "# Simulate stock price paths\n",
        "np.random.seed(42)  # for reproducibility\n",
        "S = np.zeros((N_simulations, steps + 1))\n",
        "S[:, 0] = S0\n",
        "\n",
        "for t in range(1, steps + 1):\n",
        "    Z = np.random.standard_normal(N_simulations)\n",
        "    S[:, t] = S[:, t-1] * np.exp((r - 0.5 * sigma**2) * dt + sigma * np.sqrt(dt) * Z)\n",
        "\n",
        "# Calculate payoffs\n",
        "call_payoff = np.maximum(S[:, -1] - K, 0)\n",
        "put_payoff = np.maximum(K - S[:, -1], 0)\n",
        "\n",
        "# Discount payoffs\n",
        "call_price = np.exp(-r * T) * np.mean(call_payoff)\n",
        "put_price = np.exp(-r * T) * np.mean(put_payoff)\n",
        "\n",
        "print(f\"Call Price: {call_price:.2f}\")\n",
        "print(f\"Put Price: {put_price:.2f}\")\n",
        "\n",
        "# 6. Compute the Greek Delta for the European call and put at time 0\n",
        "epsilon = 0.01\n",
        "S_up = S0 + epsilon\n",
        "S_down = S0 - epsilon\n",
        "\n",
        "# Call and put prices for S_up\n",
        "S[:, 0] = S_up\n",
        "for t in range(1, steps + 1):\n",
        "    Z = np.random.standard_normal(N_simulations)\n",
        "    S[:, t] = S[:, t-1] * np.exp((r - 0.5 * sigma**2) * dt + sigma * np.sqrt(dt) * Z)\n",
        "call_payoff_up = np.maximum(S[:, -1] - K, 0)\n",
        "put_payoff_up = np.maximum(K - S[:, -1], 0)\n",
        "call_price_up = np.exp(-r * T) * np.mean(call_payoff_up)\n",
        "put_price_up = np.exp(-r * T) * np.mean(put_payoff_up)\n",
        "\n",
        "# Call and put prices for S_down\n",
        "S[:, 0] = S_down\n",
        "for t in range(1, steps + 1):\n",
        "    Z = np.random.standard_normal(N_simulations)\n",
        "    S[:, t] = S[:, t-1] * np.exp((r - 0.5 * sigma**2) * dt + sigma * np.sqrt(dt) * Z)\n",
        "call_payoff_down = np.maximum(S[:, -1] - K, 0)\n",
        "put_payoff_down = np.maximum(K - S[:, -1], 0)\n",
        "call_price_down = np.exp(-r * T) * np.mean(call_payoff_down)\n",
        "put_price_down = np.exp(-r * T) * np.mean(put_payoff_down)\n",
        "\n",
        "# Calculate Delta\n",
        "call_delta = (call_price_up - call_price_down) / (2 * epsilon)\n",
        "put_delta = (put_price_up - put_price_down) / (2 * epsilon)\n",
        "\n",
        "print(f\"Call Delta: {call_delta:.2f}\")\n",
        "print(f\"Put Delta: {put_delta:.2f}\")\n",
        "\n",
        "# 7. Sensitivity of option prices to a 5% increase in volatility (Vega)\n",
        "sigma_new = 0.25\n",
        "S[:, 0] = S0\n",
        "for t in range(1, steps + 1):\n",
        "    Z = np.random.standard_normal(N_simulations)\n",
        "    S[:, t] = S[:, t-1] * np.exp((r - 0.5 * sigma_new**2) * dt + sigma_new * np.sqrt(dt) * Z)\n",
        "call_payoff_new = np.maximum(S[:, -1] - K, 0)\n",
        "put_payoff_new = np.maximum(K - S[:, -1], 0)\n",
        "call_price_new = np.exp(-r * T) * np.mean(call_payoff_new)\n",
        "put_price_new = np.exp(-r * T) * np.mean(put_payoff_new)\n",
        "\n",
        "call_vega = (call_price_new - call_price) / (sigma_new - sigma)\n",
        "put_vega = (put_price_new - put_price) / (sigma_new - sigma)\n",
        "\n",
        "print(f\"Call Vega: {call_vega:.2f}\")\n",
        "print(f\"Put Vega: {put_vega:.2f}\")\n"
      ],
      "metadata": {
        "id": "tY3xKa0tpRda",
        "outputId": "bc34f3ea-7f8b-4788-9364-b7f5209e32b3",
        "colab": {
          "base_uri": "https://localhost:8080/"
        }
      },
      "execution_count": null,
      "outputs": [
        {
          "output_type": "stream",
          "name": "stdout",
          "text": [
            "Call Price: 4.57\n",
            "Put Price: 3.40\n",
            "Call Delta: -1.52\n",
            "Put Delta: -2.70\n",
            "Call Vega: 19.33\n",
            "Put Vega: 18.50\n"
          ]
        }
      ]
    },
    {
      "cell_type": "code",
      "source": [
        "import numpy as np\n",
        "\n",
        "# Parameters\n",
        "S0 = 100  # Initial stock price\n",
        "K = 100  # Strike price (ATM)\n",
        "r = 0.05  # Risk-free interest rate\n",
        "sigma = 0.25  # Volatility\n",
        "T = 0.25  # Time to expiration (3 months)\n",
        "N_simulations = 10000  # Number of simulations\n",
        "steps = 252  # Number of daily steps in a year\n",
        "\n",
        "# Time step\n",
        "dt = T / steps\n",
        "\n",
        "# Simulate stock price paths\n",
        "np.random.seed(42)  # for reproducibility\n",
        "S = np.zeros((N_simulations, steps + 1))\n",
        "S[:, 0] = S0\n",
        "\n",
        "for t in range(1, steps + 1):\n",
        "    Z = np.random.standard_normal(N_simulations)\n",
        "    S[:, t] = S[:, t-1] * np.exp((r - 0.5 * sigma**2) * dt + sigma * np.sqrt(dt) * Z)\n",
        "\n",
        "# Calculate payoffs\n",
        "call_payoff = np.maximum(S[:, -1] - K, 0)\n",
        "put_payoff = np.maximum(K - S[:, -1], 0)\n",
        "\n",
        "# Discount payoffs\n",
        "call_price = np.exp(-r * T) * np.mean(call_payoff)\n",
        "put_price = np.exp(-r * T) * np.mean(put_payoff)\n",
        "\n",
        "print(f\"Call Price: {call_price:.2f}\")\n",
        "print(f\"Put Price: {put_price:.2f}\")\n",
        "\n",
        "# 6. Compute the Greek Delta for the European call and put at time 0\n",
        "epsilon = 0.01\n",
        "S_up = S0 + epsilon\n",
        "S_down = S0 - epsilon\n",
        "\n",
        "# Call and put prices for S_up\n",
        "S[:, 0] = S_up\n",
        "for t in range(1, steps + 1):\n",
        "    Z = np.random.standard_normal(N_simulations)\n",
        "    S[:, t] = S[:, t-1] * np.exp((r - 0.5 * sigma**2) * dt + sigma * np.sqrt(dt) * Z)\n",
        "call_payoff_up = np.maximum(S[:, -1] - K, 0)\n",
        "put_payoff_up = np.maximum(K - S[:, -1], 0)\n",
        "call_price_up = np.exp(-r * T) * np.mean(call_payoff_up)\n",
        "put_price_up = np.exp(-r * T) * np.mean(put_payoff_up)\n",
        "\n",
        "# Call and put prices for S_down\n",
        "S[:, 0] = S_down\n",
        "for t in range(1, steps + 1):\n",
        "    Z = np.random.standard_normal(N_simulations)\n",
        "    S[:, t] = S[:, t-1] * np.exp((r - 0.5 * sigma**2) * dt + sigma * np.sqrt(dt) * Z)\n",
        "call_payoff_down = np.maximum(S[:, -1] - K, 0)\n",
        "put_payoff_down = np.maximum(K - S[:, -1], 0)\n",
        "call_price_down = np.exp(-r * T) * np.mean(call_payoff_down)\n",
        "put_price_down = np.exp(-r * T) * np.mean(put_payoff_down)\n",
        "\n",
        "# Calculate Delta\n",
        "call_delta = (call_price_up - call_price_down) / (2 * epsilon)\n",
        "put_delta = (put_price_up - put_price_down) / (2 * epsilon)\n",
        "\n",
        "print(f\"Call Delta: {call_delta:.2f}\")\n",
        "print(f\"Put Delta: {put_delta:.2f}\")\n",
        "\n",
        "# 7. Sensitivity of option prices to a 5% increase in volatility (Vega)\n",
        "sigma_new = 0.25\n",
        "S[:, 0] = S0\n",
        "for t in range(1, steps + 1):\n",
        "    Z = np.random.standard_normal(N_simulations)\n",
        "    S[:, t] = S[:, t-1] * np.exp((r - 0.5 * sigma_new**2) * dt + sigma_new * np.sqrt(dt) * Z)\n",
        "call_payoff_new = np.maximum(S[:, -1] - K, 0)\n",
        "put_payoff_new = np.maximum(K - S[:, -1], 0)\n",
        "call_price_new = np.exp(-r * T) * np.mean(call_payoff_new)\n",
        "put_price_new = np.exp(-r * T) * np.mean(put_payoff_new)\n",
        "\n",
        "call_vega = (call_price_new - call_price) / (sigma_new - sigma)\n",
        "put_vega = (put_price_new - put_price) / (sigma_new - sigma)\n",
        "\n",
        "print(f\"Call Vega: {call_vega:.2f}\")\n",
        "print(f\"Put Vega: {put_vega:.2f}\")\n"
      ],
      "metadata": {
        "outputId": "9d4e45ba-599e-4bb5-d371-1e5bbea3da8a",
        "colab": {
          "base_uri": "https://localhost:8080/"
        },
        "id": "NE7vI8UQyXz2"
      },
      "execution_count": 6,
      "outputs": [
        {
          "output_type": "stream",
          "name": "stdout",
          "text": [
            "Call Price: 5.54\n",
            "Put Price: 4.39\n",
            "Call Delta: -2.04\n",
            "Put Delta: -3.10\n",
            "Call Vega: -inf\n",
            "Put Vega: -inf\n"
          ]
        },
        {
          "output_type": "stream",
          "name": "stderr",
          "text": [
            "<ipython-input-6-48a447fac048>:78: RuntimeWarning: divide by zero encountered in scalar divide\n",
            "  call_vega = (call_price_new - call_price) / (sigma_new - sigma)\n",
            "<ipython-input-6-48a447fac048>:79: RuntimeWarning: divide by zero encountered in scalar divide\n",
            "  put_vega = (put_price_new - put_price) / (sigma_new - sigma)\n"
          ]
        }
      ]
    },
    {
      "cell_type": "code",
      "source": [
        "# Parameters\n",
        "S0 = 100  # Initial stock price\n",
        "K = 100  # Strike price (ATM)\n",
        "r = 0.05  # Risk-free interest rate\n",
        "sigma = 0.2  # Volatility\n",
        "T = 0.25  # Time to expiration (3 months)\n",
        "N_simulations = 10000  # Number of simulations\n",
        "steps = 252  # Number of daily steps in a year\n",
        "\n",
        "# Time step\n",
        "dt = T / steps\n",
        "\n",
        "# Simulate stock price paths\n",
        "np.random.seed(42)  # for reproducibility\n",
        "S = np.zeros((N_simulations, steps + 1))\n",
        "S[:, 0] = S0\n",
        "\n",
        "for t in range(1, steps + 1):\n",
        "    Z = np.random.standard_normal(N_simulations)\n",
        "    S[:, t] = S[:, t-1] * np.exp((r - 0.5 * sigma**2) * dt + sigma * np.sqrt(dt) * Z)\n",
        "\n",
        "# Calculate payoffs considering early exercise\n",
        "put_payoff = np.maximum(K - S[:, -1], 0)\n",
        "for t in range(steps):\n",
        "    exercise_value = np.maximum(K - S[:, t], 0)\n",
        "    continuation_value = np.exp(-r * dt * (steps - t)) * put_payoff\n",
        "    put_payoff = np.where(exercise_value > continuation_value, exercise_value, put_payoff)\n",
        "\n",
        "# Discount payoffs\n",
        "put_price = np.exp(-r * T) * np.mean(put_payoff)\n",
        "\n",
        "print(f\"American Put Price: {put_price:.2f}\")\n",
        "\n",
        "# 6. Compute the Greek Delta for the American Put at time 0\n",
        "epsilon = 0.01\n",
        "S_up = S0 + epsilon\n",
        "S_down = S0 - epsilon\n",
        "\n",
        "# Simulate new paths for S_up and S_down\n",
        "def simulate_paths(S_init):\n",
        "    S = np.zeros((N_simulations, steps + 1))\n",
        "    S[:, 0] = S_init\n",
        "    for t in range(1, steps + 1):\n",
        "        Z = np.random.standard_normal(N_simulations)\n",
        "        S[:, t] = S[:, t-1] * np.exp((r - 0.5 * sigma**2) * dt + sigma * np.sqrt(dt) * Z)\n",
        "    return S\n",
        "\n",
        "S_up_paths = simulate_paths(S_up)\n",
        "S_down_paths = simulate_paths(S_down)\n",
        "\n",
        "# Calculate payoffs for S_up and S_down\n",
        "put_payoff_up = np.maximum(K - S_up_paths[:, -1], 0)\n",
        "put_payoff_down = np.maximum(K - S_down_paths[:, -1], 0)\n",
        "\n",
        "# Early exercise check\n",
        "for t in range(steps):\n",
        "    exercise_value_up = np.maximum(K - S_up_paths[:, t], 0)\n",
        "    continuation_value_up = np.exp(-r * dt * (steps - t)) * put_payoff_up\n",
        "    put_payoff_up = np.where(exercise_value_up > continuation_value_up, exercise_value_up, put_payoff_up)\n",
        "\n",
        "    exercise_value_down = np.maximum(K - S_down_paths[:, t], 0)\n",
        "    continuation_value_down = np.exp(-r * dt * (steps - t)) * put_payoff_down\n",
        "    put_payoff_down = np.where(exercise_value_down > continuation_value_down, exercise_value_down, put_payoff_down)\n",
        "\n",
        "# Discount payoffs\n",
        "put_price_up = np.exp(-r * T) * np.mean(put_payoff_up)\n",
        "put_price_down = np.exp(-r * T) * np.mean(put_payoff_down)\n",
        "\n",
        "# Calculate Delta\n",
        "put_delta = (put_price_up - put_price_down) / (2 * epsilon)\n",
        "\n",
        "print(f\"American Put Delta: {put_delta:.2f}\")\n",
        "\n",
        "# 7. Sensitivity of the American Put to a 5% increase in volatility (Vega)\n",
        "sigma_new = 0.25\n",
        "\n",
        "# Simulate new paths with increased volatility\n",
        "S_new = np.zeros((N_simulations, steps + 1))\n",
        "S_new[:, 0] = S0\n",
        "for t in range(1, steps + 1):\n",
        "    Z = np.random.standard_normal(N_simulations)\n",
        "    S_new[:, t] = S_new[:, t-1] * np.exp((r - 0.5 * sigma_new**2) * dt + sigma_new * np.sqrt(dt) * Z)\n",
        "\n",
        "# Calculate payoffs for new volatility\n",
        "put_payoff_new = np.maximum(K - S_new[:, -1], 0)\n",
        "for t in range(steps):\n",
        "    exercise_value_new = np.maximum(K - S_new[:, t], 0)\n",
        "    continuation_value_new = np.exp(-r * dt * (steps - t)) * put_payoff_new\n",
        "    put_payoff_new = np.where(exercise_value_new > continuation_value_new, exercise_value_new, put_payoff_new)\n",
        "\n",
        "# Discount payoffs\n",
        "put_price_new = np.exp(-r * T) * np.mean(put_payoff_new)\n",
        "\n",
        "# Calculate Vega\n",
        "put_vega = (put_price_new - put_price) / (sigma_new - sigma)\n",
        "\n",
        "print(f\"American Put Vega: {put_vega:.2f}\")\n"
      ],
      "metadata": {
        "colab": {
          "base_uri": "https://localhost:8080/"
        },
        "id": "6W-R1xBwuabb",
        "outputId": "3aeacbe7-4255-42d6-bef2-1a90bc156ccb"
      },
      "execution_count": 5,
      "outputs": [
        {
          "output_type": "stream",
          "name": "stdout",
          "text": [
            "American Put Price: 6.80\n",
            "American Put Delta: -1.88\n",
            "American Put Vega: 33.24\n"
          ]
        }
      ]
    },
    {
      "cell_type": "markdown",
      "source": [
        "**Black-Scholes for European options**"
      ],
      "metadata": {
        "id": "kL7L59m6ulxM"
      }
    },
    {
      "cell_type": "code",
      "source": [
        "import numpy as np\n",
        "\n",
        "# Parameters\n",
        "S0 = 120  # Initial stock price\n",
        "K = 120  # Strike price (ATM)\n",
        "B = 141  # Barrier level\n",
        "r = 0.06  # Risk-free interest rate\n",
        "sigma = 0.30  # Volatility\n",
        "T = 8 / 12  # Time to expiration (8 months)\n",
        "N_simulations = 10000  # Number of simulations\n",
        "steps = 252  # Number of daily steps in a year\n",
        "\n",
        "# Time step\n",
        "dt = T / steps\n",
        "\n",
        "# Simulate stock price paths\n",
        "np.random.seed(42)  # for reproducibility\n",
        "S = np.zeros((N_simulations, steps + 1))\n",
        "S[:, 0] = S0\n",
        "\n",
        "for t in range(1, steps + 1):\n",
        "    Z = np.random.standard_normal(N_simulations)\n",
        "    S[:, t] = S[:, t-1] * np.exp((r - 0.5 * sigma**2) * dt + sigma * np.sqrt(dt) * Z)\n",
        "\n",
        "# Calculate payoffs considering the barrier condition\n",
        "payoff = np.zeros(N_simulations)\n",
        "for i in range(N_simulations):\n",
        "    if np.any(S[i, :] >= B):\n",
        "        payoff[i] = 0\n",
        "    else:\n",
        "        payoff[i] = np.maximum(S[i, -1] - K, 0)\n",
        "\n",
        "# Discount payoffs\n",
        "option_price = np.exp(-r * T) * np.mean(payoff)\n",
        "\n",
        "print(f\"Up-and-Out Barrier Option Price: {option_price:.2f}\")"
      ],
      "metadata": {
        "colab": {
          "base_uri": "https://localhost:8080/"
        },
        "id": "TABc5Vdkuhm6",
        "outputId": "03672e30-c23d-42e7-cc41-366c61375422"
      },
      "execution_count": 4,
      "outputs": [
        {
          "output_type": "stream",
          "name": "stdout",
          "text": [
            "Up-and-Out Barrier Option Price: 0.68\n"
          ]
        }
      ]
    }
  ]
}